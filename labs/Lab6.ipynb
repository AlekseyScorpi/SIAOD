{
 "cells": [
  {
   "cell_type": "markdown",
   "metadata": {
    "id": "0z3KlfKDn4_K"
   },
   "source": [
    "# Лабораторная работа 6. \n",
    "# Сетевые алгоритмы. Динамические алгоритмы поиска путей.\n"
   ]
  },
  {
   "cell_type": "markdown",
   "metadata": {
    "id": "96Gi_LEvmSVH"
   },
   "source": [
    "## Выполнил студент группы БВТ2005 Тимошин Алексей Витальевич\n",
    "***"
   ]
  },
  {
   "cell_type": "markdown",
   "metadata": {
    "id": "GjdIp8aToKIe"
   },
   "source": [
    "### Задание\n",
    "\n",
    "1.  Реализовать алгоритм поиска кратчайшего расстояния между двумя вершинами ориентированного взвешенного графа в соответствии с вариантом. \n",
    "\n",
    "2.  Предусмотреть задание графа в виде матрицы смежности/инцидентности, читаемой из файла, либо графически с помощью пользовательского интерфейса. \n",
    "\n",
    "3.  Разработать графический интерфейс пользователя с визуализацией графа и отображением кратчайшего расстояния между задаваемыми пользователем вершинами.\n",
    "\n",
    "4. По результатам работы проанализировать временную сложность работы заданного алгоритма в зависимости от числа узлов и ребер графа.\n",
    "Данные представить в виде таблицы.\n",
    "\n"
   ]
  },
  {
   "cell_type": "markdown",
   "metadata": {
    "id": "LhhUXrAmotIA"
   },
   "source": [
    "### Алгоритмы:\n",
    "\n",
    "Алгоритм Флойда-Уоршелла| Алгоритм Дейкстры | Алгоритм Беллмана-Форда | Алгоритм Джонсона| Алгоритм Левита | Алгоритм Йена\n",
    "\n"
   ]
  },
  {
   "cell_type": "markdown",
   "metadata": {
    "id": "Wggfn8l7nG72"
   },
   "source": [
    "### Выполнение:"
   ]
  },
  {
   "cell_type": "markdown",
   "metadata": {},
   "source": [
    "Импорт библиотек"
   ]
  },
  {
   "cell_type": "code",
   "execution_count": 1,
   "metadata": {},
   "outputs": [],
   "source": [
    "import pandas as pd\n",
    "from pyvis.network import Network\n",
    "import networkx as nx\n",
    "import math\n",
    "import copy\n",
    "import random\n",
    "import time"
   ]
  },
  {
   "cell_type": "markdown",
   "metadata": {},
   "source": [
    "Алгоритм генерации случайного графа в виде матрицы смежности"
   ]
  },
  {
   "cell_type": "code",
   "execution_count": 2,
   "metadata": {},
   "outputs": [],
   "source": [
    "def generate_matrix():\n",
    "    size = random.randint(30, 100)\n",
    "    matrix = [[0 for i in range(size)] for j in range(size)]\n",
    "    for i in range(size):\n",
    "        for j in range(size):\n",
    "            if random.randint(0, 3) == 3:\n",
    "                rand_count = random.randint(1, 20)\n",
    "                matrix[i][j] = rand_count\n",
    "    return matrix"
   ]
  },
  {
   "cell_type": "markdown",
   "metadata": {},
   "source": [
    "Настройки для графического отображения графов"
   ]
  },
  {
   "cell_type": "code",
   "execution_count": 3,
   "metadata": {},
   "outputs": [],
   "source": [
    "options = \"\"\"var options = {\n",
    "  \"edges\": {\n",
    "    \"arrows\": {\n",
    "      \"to\": {\n",
    "        \"enabled\": true\n",
    "      }\n",
    "    },\n",
    "    \"color\": {\n",
    "      \"inherit\": true\n",
    "    },\n",
    "    \"smooth\": false\n",
    "  },\n",
    "  \"interaction\": {\n",
    "    \"navigationButtons\": true\n",
    "  },\n",
    "  \"physics\": {\n",
    "    \"minVelocity\": 0.75\n",
    "  }\n",
    "}\n",
    "\"\"\""
   ]
  },
  {
   "cell_type": "code",
   "execution_count": 4,
   "metadata": {},
   "outputs": [],
   "source": [
    "#создание графа, используя матрицу смежности\n",
    "def create_graph(matrix : list) -> nx.DiGraph:\n",
    "    graph = nx.DiGraph()\n",
    "    for i in range(1, len(matrix)):\n",
    "        graph.add_node(i)\n",
    "    #graph.add_edges_from(edges_dict)\n",
    "    for i in range(len(matrix)):\n",
    "        for j in range(len(matrix)):\n",
    "            if matrix[i][j] != 0 and i != j:\n",
    "                graph.add_edge(i + 1, j + 1, weight=matrix[i][j], label=matrix[i][j])\n",
    "    print(graph.edges())\n",
    "    for edge in graph.edges():\n",
    "        graph.edges[edge]['color'] = 'blue'\n",
    "    return graph"
   ]
  },
  {
   "cell_type": "markdown",
   "metadata": {
    "id": "681a95mZnOSa"
   },
   "source": [
    "Алгоритм Флойда-Уоршелла"
   ]
  },
  {
   "cell_type": "code",
   "execution_count": 5,
   "metadata": {},
   "outputs": [],
   "source": [
    "#загрузка матрицы из файла\n",
    "with open(\"mat2.txt\", \"r\", encoding = \"utf-8\") as file:\n",
    "    matrix = [[int(num) for num in line.split(\" \")] for line in file]"
   ]
  },
  {
   "cell_type": "code",
   "execution_count": 6,
   "metadata": {},
   "outputs": [
    {
     "name": "stdout",
     "output_type": "stream",
     "text": [
      "[(1, 2), (1, 3), (2, 3), (2, 6), (3, 4), (3, 5), (3, 6), (4, 2), (4, 5), (4, 6), (5, 3), (5, 4), (5, 6), (6, 2), (6, 4)]\n"
     ]
    },
    {
     "data": {
      "text/html": [
       "\n",
       "        <iframe\n",
       "            width=\"500px\"\n",
       "            height=\"500px\"\n",
       "            src=\"test.html\"\n",
       "            frameborder=\"0\"\n",
       "            allowfullscreen\n",
       "        ></iframe>\n",
       "        "
      ],
      "text/plain": [
       "<IPython.lib.display.IFrame at 0x15429d1c670>"
      ]
     },
     "execution_count": 6,
     "metadata": {},
     "output_type": "execute_result"
    }
   ],
   "source": [
    "#создаём граф\n",
    "graph = create_graph(matrix)\n",
    "\n",
    "\n",
    "#отображаем граф из файла\n",
    "nt = Network(notebook = True)\n",
    "nt.from_nx(graph)\n",
    "nt.set_options(options)\n",
    "nt.show(\"test.html\")"
   ]
  },
  {
   "cell_type": "code",
   "execution_count": 7,
   "metadata": {},
   "outputs": [
    {
     "data": {
      "text/html": [
       "\n",
       "        <iframe\n",
       "            width=\"500px\"\n",
       "            height=\"500px\"\n",
       "            src=\"test1.html\"\n",
       "            frameborder=\"0\"\n",
       "            allowfullscreen\n",
       "        ></iframe>\n",
       "        "
      ],
      "text/plain": [
       "<IPython.lib.display.IFrame at 0x1542cb8eee0>"
      ]
     },
     "execution_count": 7,
     "metadata": {},
     "output_type": "execute_result"
    }
   ],
   "source": [
    "#получение пути\n",
    "def get_path(H, v, u):\n",
    "    v -= 1\n",
    "    u -= 1\n",
    "    result = []\n",
    "    result.append(v)\n",
    "    while v != u:\n",
    "        v = H[v][u]\n",
    "        result.append(v)\n",
    "    __result = [el + 1 for el in result]\n",
    "    return __result\n",
    "\n",
    "\n",
    "#алгоритм\n",
    "def floyd(matrix):\n",
    "    W = copy.deepcopy(matrix)\n",
    "    N = len(W)\n",
    "    H = [[0 for i in range(N)] for j in range(N)]\n",
    "    for i in range(len(W)):\n",
    "        for j in range(len(W)):\n",
    "            if W[i][j] == 0:\n",
    "                W[i][j] = math.inf\n",
    "            else:\n",
    "                H[i][j] = j\n",
    "    for i in range(len(W)):\n",
    "        for j in range(len(W)):\n",
    "            if i == j: continue\n",
    "            if W[i][j] != math.inf:\n",
    "                for k in range(len(W)):\n",
    "                    if i == k or j == k: continue\n",
    "                    if W[i][k] > W[i][j] + W[j][k]:\n",
    "                        W[i][k] = W[i][j] + W[j][k]\n",
    "                        H[i][k] = H[i][j]\n",
    "    return (W, H)\n",
    "\n",
    "\n",
    "result = floyd(matrix)\n",
    "path = get_path(result[1], 2, 5)\n",
    "\n",
    "\n",
    "#вносим графические изменения\n",
    "graph1 = copy.deepcopy(graph)\n",
    "for i in range(1, len(path)):\n",
    "    graph1.nodes[path[i - 1]]['color'] = 'red'\n",
    "    graph1.edges[path[i - 1], path[i]]['color'] = 'red'\n",
    "graph1.nodes[path[-1]]['color'] = 'red'\n",
    "\n",
    "\n",
    "#отображаем граф с решением\n",
    "nt1 = Network(notebook=True)\n",
    "nt1.set_options(options)\n",
    "nt1.from_nx(graph1)\n",
    "nt1.show(\"test1.html\")"
   ]
  },
  {
   "cell_type": "code",
   "execution_count": 8,
   "metadata": {},
   "outputs": [
    {
     "data": {
      "text/html": [
       "<div>\n",
       "<style scoped>\n",
       "    .dataframe tbody tr th:only-of-type {\n",
       "        vertical-align: middle;\n",
       "    }\n",
       "\n",
       "    .dataframe tbody tr th {\n",
       "        vertical-align: top;\n",
       "    }\n",
       "\n",
       "    .dataframe thead th {\n",
       "        text-align: right;\n",
       "    }\n",
       "</style>\n",
       "<table border=\"1\" class=\"dataframe\">\n",
       "  <thead>\n",
       "    <tr style=\"text-align: right;\">\n",
       "      <th></th>\n",
       "      <th>Количество узлов</th>\n",
       "      <th>Количество ребер</th>\n",
       "      <th>Время в мс</th>\n",
       "    </tr>\n",
       "  </thead>\n",
       "  <tbody>\n",
       "    <tr>\n",
       "      <th>0</th>\n",
       "      <td>55</td>\n",
       "      <td>775</td>\n",
       "      <td>38</td>\n",
       "    </tr>\n",
       "    <tr>\n",
       "      <th>1</th>\n",
       "      <td>78</td>\n",
       "      <td>1474</td>\n",
       "      <td>103</td>\n",
       "    </tr>\n",
       "    <tr>\n",
       "      <th>2</th>\n",
       "      <td>57</td>\n",
       "      <td>802</td>\n",
       "      <td>40</td>\n",
       "    </tr>\n",
       "    <tr>\n",
       "      <th>3</th>\n",
       "      <td>78</td>\n",
       "      <td>1487</td>\n",
       "      <td>102</td>\n",
       "    </tr>\n",
       "    <tr>\n",
       "      <th>4</th>\n",
       "      <td>31</td>\n",
       "      <td>236</td>\n",
       "      <td>7</td>\n",
       "    </tr>\n",
       "    <tr>\n",
       "      <th>5</th>\n",
       "      <td>72</td>\n",
       "      <td>1289</td>\n",
       "      <td>82</td>\n",
       "    </tr>\n",
       "    <tr>\n",
       "      <th>6</th>\n",
       "      <td>53</td>\n",
       "      <td>686</td>\n",
       "      <td>33</td>\n",
       "    </tr>\n",
       "    <tr>\n",
       "      <th>7</th>\n",
       "      <td>36</td>\n",
       "      <td>304</td>\n",
       "      <td>10</td>\n",
       "    </tr>\n",
       "    <tr>\n",
       "      <th>8</th>\n",
       "      <td>45</td>\n",
       "      <td>511</td>\n",
       "      <td>20</td>\n",
       "    </tr>\n",
       "    <tr>\n",
       "      <th>9</th>\n",
       "      <td>38</td>\n",
       "      <td>362</td>\n",
       "      <td>12</td>\n",
       "    </tr>\n",
       "    <tr>\n",
       "      <th>10</th>\n",
       "      <td>46</td>\n",
       "      <td>513</td>\n",
       "      <td>23</td>\n",
       "    </tr>\n",
       "    <tr>\n",
       "      <th>11</th>\n",
       "      <td>47</td>\n",
       "      <td>579</td>\n",
       "      <td>23</td>\n",
       "    </tr>\n",
       "    <tr>\n",
       "      <th>12</th>\n",
       "      <td>40</td>\n",
       "      <td>393</td>\n",
       "      <td>15</td>\n",
       "    </tr>\n",
       "    <tr>\n",
       "      <th>13</th>\n",
       "      <td>99</td>\n",
       "      <td>2404</td>\n",
       "      <td>208</td>\n",
       "    </tr>\n",
       "    <tr>\n",
       "      <th>14</th>\n",
       "      <td>69</td>\n",
       "      <td>1218</td>\n",
       "      <td>72</td>\n",
       "    </tr>\n",
       "    <tr>\n",
       "      <th>15</th>\n",
       "      <td>51</td>\n",
       "      <td>701</td>\n",
       "      <td>31</td>\n",
       "    </tr>\n",
       "    <tr>\n",
       "      <th>16</th>\n",
       "      <td>77</td>\n",
       "      <td>1484</td>\n",
       "      <td>105</td>\n",
       "    </tr>\n",
       "    <tr>\n",
       "      <th>17</th>\n",
       "      <td>69</td>\n",
       "      <td>1190</td>\n",
       "      <td>71</td>\n",
       "    </tr>\n",
       "    <tr>\n",
       "      <th>18</th>\n",
       "      <td>65</td>\n",
       "      <td>1073</td>\n",
       "      <td>59</td>\n",
       "    </tr>\n",
       "    <tr>\n",
       "      <th>19</th>\n",
       "      <td>39</td>\n",
       "      <td>356</td>\n",
       "      <td>13</td>\n",
       "    </tr>\n",
       "  </tbody>\n",
       "</table>\n",
       "</div>"
      ],
      "text/plain": [
       "    Количество узлов  Количество ребер  Время в мс\n",
       "0                 55               775          38\n",
       "1                 78              1474         103\n",
       "2                 57               802          40\n",
       "3                 78              1487         102\n",
       "4                 31               236           7\n",
       "5                 72              1289          82\n",
       "6                 53               686          33\n",
       "7                 36               304          10\n",
       "8                 45               511          20\n",
       "9                 38               362          12\n",
       "10                46               513          23\n",
       "11                47               579          23\n",
       "12                40               393          15\n",
       "13                99              2404         208\n",
       "14                69              1218          72\n",
       "15                51               701          31\n",
       "16                77              1484         105\n",
       "17                69              1190          71\n",
       "18                65              1073          59\n",
       "19                39               356          13"
      ]
     },
     "execution_count": 8,
     "metadata": {},
     "output_type": "execute_result"
    }
   ],
   "source": [
    "#тестовый блок для определения скорости работы алгоритма\n",
    "\n",
    "tests = []\n",
    "\n",
    "for i in range(20):\n",
    "    temp_matrix = generate_matrix()\n",
    "    node_counts = len(temp_matrix)\n",
    "    edge_counts = 0\n",
    "    for i in range(len(temp_matrix)):\n",
    "        for j in range(len(temp_matrix)):\n",
    "            if temp_matrix[i][j] != 0:\n",
    "                edge_counts += 1\n",
    "    t1 = time.time()\n",
    "    result = floyd(temp_matrix)\n",
    "    t2 = time.time()\n",
    "    delta = round((t2 - t1) * 1000)\n",
    "    tests.append([node_counts, edge_counts, delta])\n",
    "\n",
    "pd.DataFrame(tests, columns = [\"Количество узлов\", \"Количество ребер\", \"Время в мс\"])"
   ]
  },
  {
   "cell_type": "markdown",
   "metadata": {},
   "source": [
    "Алгоритм Дейкстры"
   ]
  },
  {
   "cell_type": "code",
   "execution_count": 9,
   "metadata": {},
   "outputs": [],
   "source": [
    "#загрузка матрицы из файла\n",
    "with open(\"mat2.txt\", \"r\", encoding = \"utf-8\") as file:\n",
    "    matrix = [[int(num) for num in line.split(\" \")] for line in file]"
   ]
  },
  {
   "cell_type": "code",
   "execution_count": 10,
   "metadata": {},
   "outputs": [
    {
     "name": "stdout",
     "output_type": "stream",
     "text": [
      "[(1, 2), (1, 3), (2, 3), (2, 6), (3, 4), (3, 5), (3, 6), (4, 2), (4, 5), (4, 6), (5, 3), (5, 4), (5, 6), (6, 2), (6, 4)]\n"
     ]
    },
    {
     "data": {
      "text/html": [
       "\n",
       "        <iframe\n",
       "            width=\"500px\"\n",
       "            height=\"500px\"\n",
       "            src=\"test.html\"\n",
       "            frameborder=\"0\"\n",
       "            allowfullscreen\n",
       "        ></iframe>\n",
       "        "
      ],
      "text/plain": [
       "<IPython.lib.display.IFrame at 0x15429d17310>"
      ]
     },
     "execution_count": 10,
     "metadata": {},
     "output_type": "execute_result"
    }
   ],
   "source": [
    "#создаём граф\n",
    "graph = create_graph(matrix)\n",
    "\n",
    "\n",
    "#отображаем граф из файла\n",
    "nt = Network(notebook = True)\n",
    "nt.from_nx(graph)\n",
    "nt.set_options(options)\n",
    "nt.show(\"test.html\")"
   ]
  },
  {
   "cell_type": "code",
   "execution_count": 11,
   "metadata": {},
   "outputs": [
    {
     "data": {
      "text/html": [
       "\n",
       "        <iframe\n",
       "            width=\"500px\"\n",
       "            height=\"500px\"\n",
       "            src=\"test1.html\"\n",
       "            frameborder=\"0\"\n",
       "            allowfullscreen\n",
       "        ></iframe>\n",
       "        "
      ],
      "text/plain": [
       "<IPython.lib.display.IFrame at 0x1542cb8ecd0>"
      ]
     },
     "execution_count": 11,
     "metadata": {},
     "output_type": "execute_result"
    }
   ],
   "source": [
    "#получение пути\n",
    "def get_path(P, v, u):\n",
    "    result = []\n",
    "    result.append(u)\n",
    "    while u != v:\n",
    "        u = P[u]\n",
    "        result.append(u)\n",
    "    __result = [el + 1 for el in result]\n",
    "    return __result[::-1]\n",
    "\n",
    "\n",
    "#алгоритм\n",
    "def dijkstra(matrix, v, u):\n",
    "    v -= 1\n",
    "    u -= 1\n",
    "    N = len(matrix)\n",
    "    for i in range(N):\n",
    "        for j in range(N):\n",
    "            if matrix[i][j] == 0 and i != j:\n",
    "                matrix[i][j] = math.inf\n",
    "    D = [matrix[v][i] for i in range(N)]\n",
    "    P = [v for i in range(N)]\n",
    "    checked_nodes = {v}\n",
    "    for i in range(0, N):\n",
    "        temp_min = math.inf\n",
    "        node = None\n",
    "        for i in range(N):\n",
    "            if D[i] < math.inf and i not in checked_nodes:\n",
    "                temp_min = D[i]\n",
    "                node = i\n",
    "        if node is not None:\n",
    "            checked_nodes.add(node)\n",
    "            for i in range(N):\n",
    "                if D[i] > matrix[node][i] + D[node]:\n",
    "                    D[i] = matrix[node][i] + D[node]\n",
    "                    P[i] = node\n",
    "    if D[u] == math.inf:\n",
    "        path = []\n",
    "    else:\n",
    "        path = get_path(P, v, u)\n",
    "    return (D, path)\n",
    "\n",
    "\n",
    "\n",
    "result = dijkstra(matrix, 1, 6)\n",
    "path = result[1]\n",
    "\n",
    "\n",
    "\n",
    "#вносим графические изменения\n",
    "\n",
    "graph1 = copy.deepcopy(graph)\n",
    "if len(path) > 0:\n",
    "    for i in range(1, len(path)):\n",
    "        graph1.nodes[path[i - 1]]['color'] = 'red'\n",
    "        graph1.edges[path[i - 1], path[i]]['color'] = 'red'\n",
    "    graph1.nodes[path[-1]]['color'] = 'red'\n",
    "\n",
    "\n",
    "\n",
    "#отображаем граф с решением\n",
    "nt1 = Network(notebook=True)\n",
    "nt1.set_options(options)\n",
    "nt1.from_nx(graph1)\n",
    "nt1.show(\"test1.html\")"
   ]
  },
  {
   "cell_type": "code",
   "execution_count": 12,
   "metadata": {},
   "outputs": [
    {
     "data": {
      "text/html": [
       "<div>\n",
       "<style scoped>\n",
       "    .dataframe tbody tr th:only-of-type {\n",
       "        vertical-align: middle;\n",
       "    }\n",
       "\n",
       "    .dataframe tbody tr th {\n",
       "        vertical-align: top;\n",
       "    }\n",
       "\n",
       "    .dataframe thead th {\n",
       "        text-align: right;\n",
       "    }\n",
       "</style>\n",
       "<table border=\"1\" class=\"dataframe\">\n",
       "  <thead>\n",
       "    <tr style=\"text-align: right;\">\n",
       "      <th></th>\n",
       "      <th>Количество узлов</th>\n",
       "      <th>Количество ребер</th>\n",
       "      <th>Время в мс</th>\n",
       "    </tr>\n",
       "  </thead>\n",
       "  <tbody>\n",
       "    <tr>\n",
       "      <th>0</th>\n",
       "      <td>52</td>\n",
       "      <td>642</td>\n",
       "      <td>1</td>\n",
       "    </tr>\n",
       "    <tr>\n",
       "      <th>1</th>\n",
       "      <td>66</td>\n",
       "      <td>1110</td>\n",
       "      <td>2</td>\n",
       "    </tr>\n",
       "    <tr>\n",
       "      <th>2</th>\n",
       "      <td>36</td>\n",
       "      <td>351</td>\n",
       "      <td>1</td>\n",
       "    </tr>\n",
       "    <tr>\n",
       "      <th>3</th>\n",
       "      <td>93</td>\n",
       "      <td>2119</td>\n",
       "      <td>4</td>\n",
       "    </tr>\n",
       "    <tr>\n",
       "      <th>4</th>\n",
       "      <td>51</td>\n",
       "      <td>679</td>\n",
       "      <td>1</td>\n",
       "    </tr>\n",
       "    <tr>\n",
       "      <th>5</th>\n",
       "      <td>92</td>\n",
       "      <td>2144</td>\n",
       "      <td>4</td>\n",
       "    </tr>\n",
       "    <tr>\n",
       "      <th>6</th>\n",
       "      <td>63</td>\n",
       "      <td>994</td>\n",
       "      <td>1</td>\n",
       "    </tr>\n",
       "    <tr>\n",
       "      <th>7</th>\n",
       "      <td>78</td>\n",
       "      <td>1536</td>\n",
       "      <td>2</td>\n",
       "    </tr>\n",
       "    <tr>\n",
       "      <th>8</th>\n",
       "      <td>56</td>\n",
       "      <td>782</td>\n",
       "      <td>1</td>\n",
       "    </tr>\n",
       "    <tr>\n",
       "      <th>9</th>\n",
       "      <td>47</td>\n",
       "      <td>555</td>\n",
       "      <td>0</td>\n",
       "    </tr>\n",
       "    <tr>\n",
       "      <th>10</th>\n",
       "      <td>48</td>\n",
       "      <td>551</td>\n",
       "      <td>1</td>\n",
       "    </tr>\n",
       "    <tr>\n",
       "      <th>11</th>\n",
       "      <td>68</td>\n",
       "      <td>1149</td>\n",
       "      <td>1</td>\n",
       "    </tr>\n",
       "    <tr>\n",
       "      <th>12</th>\n",
       "      <td>55</td>\n",
       "      <td>758</td>\n",
       "      <td>1</td>\n",
       "    </tr>\n",
       "    <tr>\n",
       "      <th>13</th>\n",
       "      <td>80</td>\n",
       "      <td>1626</td>\n",
       "      <td>3</td>\n",
       "    </tr>\n",
       "    <tr>\n",
       "      <th>14</th>\n",
       "      <td>64</td>\n",
       "      <td>987</td>\n",
       "      <td>2</td>\n",
       "    </tr>\n",
       "    <tr>\n",
       "      <th>15</th>\n",
       "      <td>61</td>\n",
       "      <td>912</td>\n",
       "      <td>1</td>\n",
       "    </tr>\n",
       "    <tr>\n",
       "      <th>16</th>\n",
       "      <td>39</td>\n",
       "      <td>369</td>\n",
       "      <td>1</td>\n",
       "    </tr>\n",
       "    <tr>\n",
       "      <th>17</th>\n",
       "      <td>72</td>\n",
       "      <td>1260</td>\n",
       "      <td>2</td>\n",
       "    </tr>\n",
       "    <tr>\n",
       "      <th>18</th>\n",
       "      <td>92</td>\n",
       "      <td>2106</td>\n",
       "      <td>3</td>\n",
       "    </tr>\n",
       "    <tr>\n",
       "      <th>19</th>\n",
       "      <td>98</td>\n",
       "      <td>2388</td>\n",
       "      <td>4</td>\n",
       "    </tr>\n",
       "  </tbody>\n",
       "</table>\n",
       "</div>"
      ],
      "text/plain": [
       "    Количество узлов  Количество ребер  Время в мс\n",
       "0                 52               642           1\n",
       "1                 66              1110           2\n",
       "2                 36               351           1\n",
       "3                 93              2119           4\n",
       "4                 51               679           1\n",
       "5                 92              2144           4\n",
       "6                 63               994           1\n",
       "7                 78              1536           2\n",
       "8                 56               782           1\n",
       "9                 47               555           0\n",
       "10                48               551           1\n",
       "11                68              1149           1\n",
       "12                55               758           1\n",
       "13                80              1626           3\n",
       "14                64               987           2\n",
       "15                61               912           1\n",
       "16                39               369           1\n",
       "17                72              1260           2\n",
       "18                92              2106           3\n",
       "19                98              2388           4"
      ]
     },
     "execution_count": 12,
     "metadata": {},
     "output_type": "execute_result"
    }
   ],
   "source": [
    "#тестовый блок для определения скорости работы алгоритма\n",
    "\n",
    "tests = []\n",
    "\n",
    "for i in range(20):\n",
    "    temp_matrix = generate_matrix()\n",
    "    node_counts = len(temp_matrix)\n",
    "    edge_counts = 0\n",
    "    for i in range(len(temp_matrix)):\n",
    "        for j in range(len(temp_matrix)):\n",
    "            if temp_matrix[i][j] != 0:\n",
    "                edge_counts += 1\n",
    "    t1 = time.time()\n",
    "    c1 = random.randint(0, len(temp_matrix) // 2)\n",
    "    c2 = random.randint(0, len(temp_matrix))\n",
    "    result = dijkstra(temp_matrix, c1, c2)\n",
    "    t2 = time.time()\n",
    "    delta = round((t2 - t1) * 1000)\n",
    "    tests.append([node_counts, edge_counts, delta])\n",
    "\n",
    "pd.DataFrame(tests, columns = [\"Количество узлов\", \"Количество ребер\", \"Время в мс\"])"
   ]
  },
  {
   "cell_type": "markdown",
   "metadata": {},
   "source": [
    "Алгоритм Беллмана-Форда"
   ]
  },
  {
   "cell_type": "code",
   "execution_count": null,
   "metadata": {},
   "outputs": [],
   "source": [
    "#загрузка матрицы из файла\n",
    "with open(\"mat1.txt\", \"r\", encoding = \"utf-8\") as file:\n",
    "    matrix = [[int(num) for num in line.split(\" \")] for line in file]"
   ]
  },
  {
   "cell_type": "code",
   "execution_count": null,
   "metadata": {},
   "outputs": [],
   "source": [
    "#создаём граф\n",
    "graph = nx.Graph()\n",
    "for i in range(len(matrix)):\n",
    "    graph.add_node(i + 1, size = 10)\n",
    "for i in range(len(matrix)):\n",
    "    for j in range(len(matrix[i])):\n",
    "        if matrix[i][j] != 0:\n",
    "            graph.add_edge(i + 1, j + 1, weight = matrix[i][j], color = 'blue')\n",
    "\n",
    "#графически отоброжаем наш изначальный граф\n",
    "nt = Network(notebook = True)\n",
    "nt.from_nx(graph)\n",
    "nt.show(\"test.html\")"
   ]
  },
  {
   "cell_type": "code",
   "execution_count": null,
   "metadata": {},
   "outputs": [],
   "source": [
    "#сам алгоритм\n",
    "\n",
    "def get_path(P, v, u):\n",
    "    N = len(P)\n",
    "    j = P[N - 1][u]\n",
    "    result = []\n",
    "    result.append(u)\n",
    "    result.append(j)\n",
    "    for i in range(N - 1, -1, -1):\n",
    "        j = P[i - 1][j]\n",
    "        if j == None:\n",
    "            break\n",
    "        result.append(j)\n",
    "    __result = [el + 1 for el in result]\n",
    "    return __result[::-1]\n",
    "\n",
    "def bell_ford(matrix, v, u):\n",
    "    v -= 1\n",
    "    u -= 1\n",
    "    w = {}\n",
    "    for i in range(len(matrix)):\n",
    "        for j in range(len(matrix[0])):\n",
    "            if matrix[i][j] != 0:\n",
    "                w[(i, j)] = matrix[i][j]\n",
    "    N = len(matrix)\n",
    "    A = [[math.inf for i in range(N)] for j in range(N)]\n",
    "    A[0][v] = 0\n",
    "    P = [[None for i in range(N)] for j in range(N)]\n",
    "    for k in range(1, N):\n",
    "        flag = True\n",
    "        for i in range(N):\n",
    "            A[k][i] = A[k - 1][i]\n",
    "            for j in range(N):\n",
    "                if A[k - 1][j] + matrix[j][i] < A[k][i] and matrix[j][i] != 0:\n",
    "                    A[k][i] = A[k - 1][j] + matrix[j][i]\n",
    "                    flag = False\n",
    "                    P[k][i] = j\n",
    "        if flag:\n",
    "            break\n",
    "    i = N - 1\n",
    "    while i > -1:\n",
    "        if A[i][v] == math.inf:\n",
    "            A.pop(i)\n",
    "            i -= 1\n",
    "        else:\n",
    "            break\n",
    "    i = N - 1\n",
    "    while i > -1:\n",
    "        if P[i][u] == None:\n",
    "            P.pop(i)\n",
    "            i -= 1\n",
    "        else:\n",
    "            break\n",
    "    return get_path(P, v, u)\n",
    "new_matrix = copy.deepcopy(matrix)\n",
    "result = bell_ford(matrix, 1, 8)\n",
    "\n",
    "\n",
    "#вносим графические изменения\n",
    "graph1 = copy.deepcopy(graph)\n",
    "for i in range(1, len(result)):\n",
    "    graph1.nodes[result[i - 1]]['color'] = 'red'\n",
    "    graph1.nodes[result[i]]['color'] = 'red'\n",
    "    graph1.edges[result[i], result[i - 1]]['color'] = 'red'\n",
    "    graph1.edges[result[i], result[i - 1]]['with_label'] = True\n",
    "    graph1.edges[result[i], result[i - 1]]['label'] = graph1.edges[result[i], result[i - 1]]['weight']\n",
    "\n",
    "\n",
    "#отображаем граф с решением\n",
    "nt1 = Network(notebook = True)\n",
    "nt1.from_nx(graph1)\n",
    "nt1.show(\"test1.html\")"
   ]
  },
  {
   "cell_type": "code",
   "execution_count": null,
   "metadata": {},
   "outputs": [],
   "source": [
    "#тестовый блок для определения скорости работы алгоритма\n",
    "\n",
    "tests = []\n",
    "\n",
    "for i in range(10):\n",
    "    temp_matrix = generate_matrix()\n",
    "    node_counts = len(temp_matrix)\n",
    "    edge_counts = 0\n",
    "    for i in range(len(temp_matrix)):\n",
    "        for j in range(i):\n",
    "            if temp_matrix[j][i] != 0:\n",
    "                edge_counts += 1\n",
    "    t1 = time.time()\n",
    "    c1 = random.randint(1, len(temp_matrix) // 2)\n",
    "    c2 = random.randint(1, len(temp_matrix))\n",
    "    result = bell_ford(temp_matrix, c1, c2)\n",
    "    t2 = time.time()\n",
    "    delta = round((t2 - t1) * 1000)\n",
    "    tests.append([node_counts, edge_counts, delta])\n",
    "\n",
    "pd.DataFrame(tests, columns = [\"Количество узлов\", \"Количество ребер\", \"Время в мс\"])"
   ]
  },
  {
   "cell_type": "markdown",
   "metadata": {},
   "source": [
    "Алгоритм Джонсона"
   ]
  },
  {
   "cell_type": "code",
   "execution_count": null,
   "metadata": {},
   "outputs": [],
   "source": [
    "#загрузка матрицы из файла\n",
    "with open(\"mat1.txt\", \"r\", encoding = \"utf-8\") as file:\n",
    "    matrix = [[int(num) for num in line.split(\" \")] for line in file]"
   ]
  },
  {
   "cell_type": "code",
   "execution_count": null,
   "metadata": {},
   "outputs": [],
   "source": [
    "#создаём граф\n",
    "graph = nx.Graph()\n",
    "for i in range(len(matrix)):\n",
    "    graph.add_node(i + 1, size = 10)\n",
    "for i in range(len(matrix)):\n",
    "    for j in range(len(matrix[i])):\n",
    "        if matrix[i][j] != 0:\n",
    "            graph.add_edge(i + 1, j + 1, weight = matrix[i][j], color = 'blue')\n",
    "\n",
    "#графически отоброжаем наш изначальный граф\n",
    "nt = Network(notebook = True)\n",
    "nt.from_nx(graph)\n",
    "nt.show(\"test.html\")"
   ]
  },
  {
   "cell_type": "code",
   "execution_count": null,
   "metadata": {},
   "outputs": [],
   "source": [
    "#сам алгоритм\n"
   ]
  },
  {
   "cell_type": "markdown",
   "metadata": {},
   "source": [
    "Алгоритм Левита"
   ]
  },
  {
   "cell_type": "code",
   "execution_count": null,
   "metadata": {},
   "outputs": [],
   "source": []
  },
  {
   "cell_type": "markdown",
   "metadata": {},
   "source": [
    "Алгоиртм Йена"
   ]
  },
  {
   "cell_type": "code",
   "execution_count": null,
   "metadata": {},
   "outputs": [],
   "source": []
  },
  {
   "cell_type": "markdown",
   "metadata": {
    "id": "diOb-K7LnO5a"
   },
   "source": [
    "### Вывод"
   ]
  }
 ],
 "metadata": {
  "colab": {
   "name": "Lab6.ipynb",
   "provenance": []
  },
  "kernelspec": {
   "display_name": "Python 3",
   "language": "python",
   "name": "python3"
  },
  "language_info": {
   "codemirror_mode": {
    "name": "ipython",
    "version": 3
   },
   "file_extension": ".py",
   "mimetype": "text/x-python",
   "name": "python",
   "nbconvert_exporter": "python",
   "pygments_lexer": "ipython3",
   "version": "3.8.3"
  }
 },
 "nbformat": 4,
 "nbformat_minor": 1
}
